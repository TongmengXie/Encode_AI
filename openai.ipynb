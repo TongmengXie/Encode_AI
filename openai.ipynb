{
 "cells": [
  {
   "cell_type": "code",
   "execution_count": 10,
   "id": "c295a9f3",
   "metadata": {},
   "outputs": [],
   "source": [
    "from dotenv import load_dotenv\n",
    "import os\n",
    "\n",
    "load_dotenv()\n",
    "OPENAI_API_KEY = os.getenv(\"OPENAI_API_KEY\")"
   ]
  },
  {
   "cell_type": "code",
   "execution_count": 4,
   "id": "85069dc4",
   "metadata": {},
   "outputs": [],
   "source": [
    "import os\n",
    "import json\n",
    "from openai import OpenAI\n",
    "from dotenv import load_dotenv\n",
    "\n",
    "# Load your API key securely from environment\n",
    "load_dotenv()\n",
    "OPENAI_API_KEY = os.getenv(\"OPENAI_API_KEY\")\n",
    "client = OpenAI(api_key=OPENAI_API_KEY)\n",
    "# Your defined function\n",
    "def generate_route(destination_city, route_shape, transportation_type):\n",
    "    # Replace this with your actual logic to generate a route\n",
    "    return (\n",
    "        f\"<html><body>\"\n",
    "        f\"<h1>Route for {destination_city}</h1>\"\n",
    "        f\"<p>Route Shape: {route_shape}</p>\"\n",
    "        f\"<p>Transportation: {transportation_type}</p>\"\n",
    "        f\"<p>Map: [Embedded OpenStreetMap here]</p>\"\n",
    "        f\"<a href='download.pdf'>Download PDF</a>\"\n",
    "        f\"<a href='download.gpx'>Download GPX</a>\"\n",
    "        f\"<a href='download.kml'>Download KML</a>\"\n",
    "        f\"</body></html>\"\n",
    "    )\n",
    "\n",
    "def query(text):\n",
    "  input_response = client.chat.completions.create(\n",
    "    model=\"gpt-4o-mini-2024-07-18\",\n",
    "    messages=[\n",
    "      {\n",
    "        \"role\": \"system\",\n",
    "        \"content\": [\n",
    "          {\n",
    "            \"text\": \"You are an expert in tourist guidance. The user will describe the city they want to visit and you should generate a real, meaningful route using the function `generate_route()`, and visualize it on a map.\\n\\n# Output Format\\n\\n- Display the generated route on OpenStreetMap in an HTML format.\\n- Provide options for the user to download the map and route details.\\n- Confirm the availability of different formats (e.g., PDF, GPX, KML). \\n\\n# Steps\\n\\n1. Receive the city description from the user.\\n2. Call `generate_route()` to create a route based on the user's description.\\n3. Visualize the route using OpenStreetMap embedded in an HTML page.\\n4. Include buttons or links for downloading the route in various formats such as PDF, GPX, and KML.\\n\\n# Notes\\n\\n- Ensure the HTML page is well-structured for easy viewing and interaction.\\n- Verify that the downloadable formats are correctly referenced and clickable.\",\n",
    "            \"type\": \"text\"\n",
    "          }\n",
    "        ]\n",
    "      },\n",
    "      {\n",
    "        \"role\": \"user\",\n",
    "        \"content\": [\n",
    "          {\n",
    "            \"text\": text,\n",
    "            \"type\": \"text\"\n",
    "          }\n",
    "        ]\n",
    "      },\n",
    "    ],\n",
    "    response_format={\n",
    "      \"type\": \"text\"\n",
    "    },\n",
    "    temperature=1,\n",
    "    max_completion_tokens=2048,\n",
    "    top_p=1,\n",
    "    frequency_penalty=0,\n",
    "    presence_penalty=0,\n",
    "    store=False\n",
    "  )\n",
    "  return input_response"
   ]
  },
  {
   "cell_type": "code",
   "execution_count": 6,
   "id": "f0c427c9",
   "metadata": {},
   "outputs": [],
   "source": [
    "text = \"I want to visit London today in a closed circle that takes almost 2 hours. Sakura themed\"\n",
    "initial_response = query(text)\n",
    "message = initial_response.choices[0].message\n"
   ]
  },
  {
   "cell_type": "code",
   "execution_count": 8,
   "id": "e80218f5",
   "metadata": {},
   "outputs": [
    {
     "data": {
      "text/plain": [
       "'Sure! I’ll create a Sakura-themed route in London that takes approximately 2 hours. This will highlight beautiful spots, particularly those that feature cherry blossoms or related aesthetics.\\n\\nLet me generate the route for you. \\n\\n### Generating Route...\\n\\n```python\\ngenerate_route(city=\\'London\\', theme=\\'Sakura\\', duration=\\'2 hours\\')\\n```\\n\\n### Route Details:\\n\\n1. **St. James\\'s Park** - Start your journey by walking through one of London’s most famous parks, where you can find lovely cherry trees.\\n2. **Green Park** - Head towards Green Park, another well-maintained area, perfect for enjoying the Sakura theme.\\n3. **Piccadilly Circus** - From there, you can head to the iconic Piccadilly Circus for some city vibes, just a short walk away.\\n4. **Regent Street** - Continue down Regent Street for some shopping and lovely architecture.\\n5. **Soho Gardens** - Finally, visit one of Soho\\'s hidden gardens where you can find more beautiful blossoms.\\n\\nNow, I\\'ll visualize the route on OpenStreetMap.\\n\\n### Route Map Visualization\\n\\nHere’s the HTML page containing your route:\\n\\n```html\\n<!DOCTYPE html>\\n<html lang=\"en\">\\n<head>\\n    <meta charset=\"UTF-8\">\\n    <meta name=\"viewport\" content=\"width=device-width, initial-scale=1.0\">\\n    <title>Sakura Themed Route in London</title>\\n    <link rel=\"stylesheet\" href=\"https://unpkg.com/leaflet/dist/leaflet.css\" />\\n    <script src=\"https://unpkg.com/leaflet/dist/leaflet.js\"></script>\\n    <style>\\n        #map { height: 600px; }\\n    </style>\\n</head>\\n<body>\\n\\n<h2>Sakura Themed Route in London</h2>\\n<div id=\"map\"></div>\\n<script>\\n    var map = L.map(\\'map\\').setView([51.5074, -0.1278], 13);\\n    L.tileLayer(\\'https://{s}.tile.openstreetmap.org/{z}/{x}/{y}.png\\', {\\n        maxZoom: 19,\\n    }).addTo(map);\\n\\n    var routeCoordinates = [\\n        [51.5000, -0.1340], // St. James\\'s Park\\n        [51.5045, -0.1407], // Green Park\\n        [51.5080, -0.1347], // Piccadilly Circus\\n        [51.5110, -0.1381], // Regent Street\\n        [51.5134, -0.1337]  // Soho Gardens\\n    ];\\n\\n    var routeLine = L.polyline(routeCoordinates, { color: \\'pink\\' }).addTo(map);\\n    routeCoordinates.forEach(function(coords) {\\n        L.marker(coords).addTo(map);\\n    });\\n</script>\\n\\n<div>\\n    <h3>Download Options</h3>\\n    <a href=\"path/to/route.pdf\" download>Download as PDF</a><br>\\n    <a href=\"path/to/route.gpx\" download>Download as GPX</a><br>\\n    <a href=\"path/to/route.kml\" download>Download as KML</a><br>\\n</div>\\n\\n</body>\\n</html>\\n```\\n\\n### Download Links:\\n- [Download as PDF](path/to/route.pdf)\\n- [Download as GPX](path/to/route.gpx)\\n- [Download as KML](path/to/route.kml)\\n\\nFeel free to click the download links to obtain the route details in your desired format! Enjoy your Sakura-themed journey in London!'"
      ]
     },
     "execution_count": 8,
     "metadata": {},
     "output_type": "execute_result"
    }
   ],
   "source": [
    "message.content"
   ]
  }
 ],
 "metadata": {
  "kernelspec": {
   "display_name": "gpt_struct_output",
   "language": "python",
   "name": "python3"
  },
  "language_info": {
   "codemirror_mode": {
    "name": "ipython",
    "version": 3
   },
   "file_extension": ".py",
   "mimetype": "text/x-python",
   "name": "python",
   "nbconvert_exporter": "python",
   "pygments_lexer": "ipython3",
   "version": "3.12.4"
  }
 },
 "nbformat": 4,
 "nbformat_minor": 5
}
